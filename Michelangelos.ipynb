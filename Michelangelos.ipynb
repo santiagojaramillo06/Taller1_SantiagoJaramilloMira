{
 "cells": [
  {
   "cell_type": "markdown",
   "id": "186039a5",
   "metadata": {},
   "source": [
    "# Michelangelo's\n",
    "\n",
    "Su amigo Chocolove McDonell le comenta que inauguró un nuevo restaurante llamado _Michelangelo's_, el cual se especializa en comida italiana. Como dueño del negocio, Chocolove quiere evaluar la rentabilidad de su negocio, pero no es muy bueno sacando cuentas, razón por la que acude a usted por ayuda. \n",
    "\n",
    "El menú del restaurante es el siguiente:\n",
    "> - Carpaccio... `$ 31.500`\n",
    "> - Polenta... `$ 31.500`\n",
    "> - Panna Cotta... `$ 32.000` \n",
    "> - Macchiato... `$ 12.500` \n",
    "> - Latte... `$ 18.000`\n",
    "> - Cappuccino... `$ 19.500` \n",
    "> - Espresso... `$ 21.500` \n",
    "> - Lasagna... `$ 29.000` \n",
    "> - Risotto... `$ 35.500` \n",
    "> - Gnocchi... `$ 56.500` \n",
    "> - Ravioli... `$ 63.500` \n",
    "\n",
    "Chocolove lleva anotaciones de las ventas realizadas durante la primera semana en un pequeño cuaderno, indicando la fecha y los platos servidos. Le ha compartido la siguientes imágenes:\n",
    "\n",
    "<img src=\"ventas_p1.jpg\" style=\"max-height:400px\">\n",
    "<img src=\"ventas_p2.jpg\" style=\"max-height:400px\">\n",
    "\n",
    "**Tip**: Descarga las imágenes de la carpeta del repositorio para observar el texto con mayor facilidad."
   ]
  },
  {
   "cell_type": "markdown",
   "id": "29ad8ea4",
   "metadata": {},
   "source": [
    "# Menú"
   ]
  },
  {
   "cell_type": "markdown",
   "id": "2797b589",
   "metadata": {},
   "source": [
    "Crea una lista llamada `menu` que contenga los elementos del menú de Michelangelo's."
   ]
  },
  {
   "cell_type": "code",
   "execution_count": 19,
   "id": "3cb128e4",
   "metadata": {},
   "outputs": [
    {
     "name": "stdout",
     "output_type": "stream",
     "text": [
      "El menú de Michelangelo's. es: \n",
      "\n",
      "Carpaccio\n",
      "Polenta\n",
      "Panna Cotta\n",
      "Macchiato\n",
      "Latte\n",
      "Cappuccino\n",
      "Espresso\n",
      "Lasagna\n",
      "Risotto\n",
      "Gnocchi\n",
      "Ravioli\n"
     ]
    }
   ],
   "source": [
    "menu = [\"Carpaccio\", \"Polenta\", \"Panna Cotta\", \"Macchiato\", \"Latte\", \"Cappuccino\", \"Espresso\", \"Lasagna\", \"Risotto\", \"Gnocchi\", \"Ravioli\"]\n",
    "print(\"El menú de Michelangelo's. es: \\n\")\n",
    "for name in menu:\n",
    "       print(name)"
   ]
  },
  {
   "cell_type": "markdown",
   "id": "9c242dcf",
   "metadata": {},
   "source": [
    "Crea una lista llamada `prices` que contenga los precios de los elementos del menú de Michelangelo's. El orden de los precios debe corresponder con el orden de los platos en la lista `menu`."
   ]
  },
  {
   "cell_type": "code",
   "execution_count": 21,
   "id": "2c648e26",
   "metadata": {},
   "outputs": [
    {
     "name": "stdout",
     "output_type": "stream",
     "text": [
      "El precio de los platos es: \n",
      "\n",
      "31500\n",
      "31500\n",
      "32000\n",
      "12500\n",
      "18000\n",
      "19500\n",
      "21500\n",
      "29000\n",
      "35500\n",
      "56500\n",
      "63500\n"
     ]
    }
   ],
   "source": [
    "prices = [31500, 31500, 32000, 12500, 18000, 19500, 21500, 29000, 35500, 56500, 63500]\n",
    "print(\"El precio de los platos es: \\n\")\n",
    "for precio in prices:\n",
    "       print(precio)"
   ]
  },
  {
   "cell_type": "markdown",
   "id": "db730bc8",
   "metadata": {},
   "source": [
    "Crea una variable llamada `avg_prc` que almacene el valor del precio promedio de los productos vendidos en Michelangelo's.\n",
    "\n",
    "**Tip**: utiliza la lista `prices` y ciclos para calcular este valor. "
   ]
  },
  {
   "cell_type": "code",
   "execution_count": 23,
   "id": "8d1e899a",
   "metadata": {},
   "outputs": [
    {
     "name": "stdout",
     "output_type": "stream",
     "text": [
      "El precio promedio es: 31909.09\n"
     ]
    }
   ],
   "source": [
    "avg_prc = 0\n",
    "suma = 0\n",
    "\n",
    "for i in range(len(prices)):\n",
    "    suma += prices[i]\n",
    "\n",
    "avg_prc = round(suma/len(prices),2)\n",
    "print(\"El precio promedio es: \" + str(avg_prc))\n",
    "    "
   ]
  },
  {
   "cell_type": "markdown",
   "id": "08393c0c",
   "metadata": {},
   "source": [
    "## Ventas"
   ]
  },
  {
   "cell_type": "markdown",
   "id": "97c049c0",
   "metadata": {},
   "source": [
    "Crea una lista para cada día de la semana que contenga los productos vendidos por Michelangelo's. Nombra las variables de la siguiente forma:\n",
    "- `monday`: lista con las ventas del lunes, 16 de enero de 2023\n",
    "- `tuesday`: lista con las ventas del martes, 17 de enero de 2023\n",
    "- `wednesday`: lista con las ventas del miércoles, 18 de enero de 2023\n",
    "- `thursday`: lista con las ventas del jueves, 19 de enero de 2023\n",
    "- `friday`: lista con las ventas del viernes, 20 de enero de 2023\n",
    "- `saturday`: lista con las ventas del sábado, 21 de enero de 2023\n",
    "- `sunday`: lista con las ventas del domingo, 22 de enero de 2023"
   ]
  },
  {
   "cell_type": "code",
   "execution_count": 33,
   "id": "f2b38aa6",
   "metadata": {},
   "outputs": [],
   "source": [
    "monday = [\"Lasagna\", \"Polenta\", \"Gnocchi\", \"Polenta\", \"Ravioli\", \"Gnocchi\", \"Cappuccino\", \"Risotto\"]\n",
    "tuesday = [\"Risotto\", \"Ravioli\", \"Risotto\", \"Lasagna\", \"Carpaccio\", \"Espresso\", \"Panna Cotta\", \"Gnocchi\", \"Gnocchi\"]\n",
    "wednesday = [\"Cappuccino\", \"Lasagna\", \"Cappuccino\", \"Carpaccio\", \"Ravioli\", \"Polenta\", \"Polenta\", \"Carpaccio\", \"Espresso\", \"Lasagna\", \"Risotto\", \"Carpaccio\"]\n",
    "thursday = [\"Latte\", \"Risotto\", \"Risotto\", \"Carpaccio\", \"Gnocchi\", \"Polenta\", \"Espresso\", \"Latte\", \"Ravioli\"]\n",
    "friday = [\"Espresso\", \"Gnocchi\", \"Gnocchi\", \"Cappuccino\", \"Gnocchi\", \"Panna Cotta\"]\n",
    "saturday = [\"Risotto\", \"Carpaccio\", \"Macchiato\", \"Cappuccino\", \"Risotto\", \"Polenta\", \"Panna Cotta\", \"Ravioli\", \"Macchiato\", \"Panna Cotta\", \"Latte\", \"Latte\", \"Gnocchi\"]\n",
    "sunday = [\"Polenta\", \"Polenta\", \"Espresso\", \"Ravioli\", \"Risotto\", \"Macchiato\"]"
   ]
  },
  {
   "cell_type": "markdown",
   "id": "0727bc22",
   "metadata": {},
   "source": [
    "Calcula el valor total de las ventas para cada día de la semana. Almacena el valor de las ventas en las siguientes variables:\n",
    "- `total_monday`: variable con el valor total de las ventas del día lunes\n",
    "- `total_tuesday`: variable con el valor total de las ventas del día lunes\n",
    "- `total_wednesday`: variable con el valor total de las ventas del día lunes\n",
    "- `total_thursday`: variable con el valor total de las ventas del día lunes\n",
    "- `total_friday`: variable con el valor total de las ventas del día lunes\n",
    "- `total_saturday`: variable con el valor total de las ventas del día lunes\n",
    "- `total_sunday`: variable con el valor total de las ventas del día lunes\n",
    "\n",
    "**Tip**: utiliza ciclos y las listas de los días de la semana. También puedes usar el método `.index()` para obtener el índice de un elemento en una lista."
   ]
  },
  {
   "cell_type": "code",
   "execution_count": 34,
   "id": "0d6e0781",
   "metadata": {},
   "outputs": [
    {
     "name": "stdout",
     "output_type": "stream",
     "text": [
      "El total de las ventas del dia lunes son: 323500\n",
      "El total de las ventas del dia martes son: 361500\n",
      "El total de las ventas del dia miercoles son: 375000\n",
      "El total de las ventas del dia jueves son: 311500\n",
      "El total de las ventas del dia viernes son: 242500\n",
      "El total de las ventas del dia sabado son: 398500\n",
      "El total de las ventas del dia domingo son: 196000\n"
     ]
    }
   ],
   "source": [
    "#Total de ventas lunes\n",
    "total_monday = 0\n",
    "for i in monday:\n",
    "    total_monday += prices[menu.index(i)]\n",
    "print(\"El total de las ventas del dia lunes son: \" + str(total_monday))\n",
    "\n",
    "#Total de ventas martes\n",
    "total_tuesday = 0\n",
    "for i in tuesday:\n",
    "    total_tuesday += prices[menu.index(i)]\n",
    "print(\"El total de las ventas del dia martes son: \" + str(total_tuesday))\n",
    "\n",
    "#Total de ventas miercoles\n",
    "total_wednesday = 0\n",
    "for i in wednesday:\n",
    "    total_wednesday += prices[menu.index(i)]\n",
    "print(\"El total de las ventas del dia miercoles son: \" + str(total_wednesday))\n",
    "\n",
    "#Total de ventas jueves\n",
    "total_thursday = 0\n",
    "for i in thursday:\n",
    "    total_thursday += prices[menu.index(i)]\n",
    "print(\"El total de las ventas del dia jueves son: \" + str(total_thursday))\n",
    "\n",
    "#Total de ventas viernes\n",
    "total_friday = 0\n",
    "for i in friday:\n",
    "    total_friday += prices[menu.index(i)]\n",
    "print(\"El total de las ventas del dia viernes son: \" + str(total_friday))\n",
    "\n",
    "#Total de ventas sabado\n",
    "total_saturday = 0\n",
    "for i in saturday:\n",
    "    total_saturday += prices[menu.index(i)]\n",
    "print(\"El total de las ventas del dia sabado son: \" + str(total_saturday))\n",
    "\n",
    "#Total de ventas domingo\n",
    "total_sunday = 0\n",
    "for i in sunday:\n",
    "    total_sunday += prices[menu.index(i)]\n",
    "print(\"El total de las ventas del dia domingo son: \" + str(total_sunday))\n"
   ]
  },
  {
   "cell_type": "markdown",
   "id": "3cc13c70",
   "metadata": {},
   "source": [
    "¿Cuál es valor total de las ventas de Michelangelo's durante su primera semana?"
   ]
  },
  {
   "cell_type": "code",
   "execution_count": 35,
   "id": "c8d1500f",
   "metadata": {},
   "outputs": [
    {
     "name": "stdout",
     "output_type": "stream",
     "text": [
      "El valor total de las ventas es: 2208500\n"
     ]
    }
   ],
   "source": [
    "total = total_monday + total_tuesday + total_wednesday + total_thursday + total_friday + total_saturday + total_sunday\n",
    "\n",
    "print(\"El valor total de las ventas es: \" + str(total))"
   ]
  }
 ],
 "metadata": {
  "kernelspec": {
   "display_name": "Python 3 (ipykernel)",
   "language": "python",
   "name": "python3"
  },
  "language_info": {
   "codemirror_mode": {
    "name": "ipython",
    "version": 3
   },
   "file_extension": ".py",
   "mimetype": "text/x-python",
   "name": "python",
   "nbconvert_exporter": "python",
   "pygments_lexer": "ipython3",
   "version": "3.9.7"
  }
 },
 "nbformat": 4,
 "nbformat_minor": 5
}
